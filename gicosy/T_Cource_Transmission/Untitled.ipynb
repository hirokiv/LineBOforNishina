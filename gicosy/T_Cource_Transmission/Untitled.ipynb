{
 "cells": [
  {
   "cell_type": "code",
   "execution_count": 9,
   "metadata": {},
   "outputs": [
    {
     "name": "stdout",
     "output_type": "stream",
     "text": [
      "['20.000000', '20.000000', '21.750000', '32.000000', '32.000000', '20.000000', '49.549999', '49.549999', '11.700000', '19.150000', '29.000000', '58.000000', '19.799999', '28.099998', '15.600000', '18.799999', '43.950001', '18.189999']\n"
     ]
    }
   ],
   "source": [
    "import re\n",
    "data_lines=None\n",
    "        \n",
    "with open(\"./mocadi_in/HEBT_GARIS3_tmp.in\",encoding = \"utf-8\") as f_in:\n",
    "    data_lines = f_in.read()        \n",
    "#        print(data_lines)        \n",
    "    tmp_lines = re.findall(r\"\"\"DRIFT\n",
    "   ([0-9].*)\n",
    "\"\"\",data_lines)\n",
    "    print(tmp_lines)\n"
   ]
  },
  {
   "cell_type": "code",
   "execution_count": null,
   "metadata": {},
   "outputs": [],
   "source": []
  },
  {
   "cell_type": "code",
   "execution_count": null,
   "metadata": {},
   "outputs": [],
   "source": []
  }
 ],
 "metadata": {
  "kernelspec": {
   "display_name": "Python 3",
   "language": "python",
   "name": "python3"
  },
  "language_info": {
   "codemirror_mode": {
    "name": "ipython",
    "version": 3
   },
   "file_extension": ".py",
   "mimetype": "text/x-python",
   "name": "python",
   "nbconvert_exporter": "python",
   "pygments_lexer": "ipython3",
   "version": "3.8.5"
  }
 },
 "nbformat": 4,
 "nbformat_minor": 4
}
